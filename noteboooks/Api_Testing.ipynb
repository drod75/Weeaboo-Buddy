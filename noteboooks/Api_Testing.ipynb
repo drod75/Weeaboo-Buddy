{
  "nbformat": 4,
  "nbformat_minor": 0,
  "metadata": {
    "colab": {
      "provenance": [],
      "authorship_tag": "ABX9TyPHS6If+1832BdU/kVTb9x7",
      "include_colab_link": true
    },
    "kernelspec": {
      "name": "python3",
      "display_name": "Python 3"
    },
    "language_info": {
      "name": "python"
    }
  },
  "cells": [
    {
      "cell_type": "markdown",
      "metadata": {
        "id": "view-in-github",
        "colab_type": "text"
      },
      "source": [
        "<a href=\"https://colab.research.google.com/github/drod75/Weeaboo-Buddy/blob/main/noteboooks/Api_Testing.ipynb\" target=\"_parent\"><img src=\"https://colab.research.google.com/assets/colab-badge.svg\" alt=\"Open In Colab\"/></a>"
      ]
    },
    {
      "cell_type": "markdown",
      "source": [
        "# API Testing"
      ],
      "metadata": {
        "id": "XnjD0j8i3vE4"
      }
    },
    {
      "cell_type": "code",
      "execution_count": 1,
      "metadata": {
        "id": "IWeBKh_h3WBH"
      },
      "outputs": [],
      "source": [
        "import requests\n",
        "import urllib.parse"
      ]
    },
    {
      "cell_type": "code",
      "source": [
        "js = requests.get(\"https://api.trace.moe/search?url={}\"\n",
        "  .format(urllib.parse.quote_plus(\"https://images.plurk.com/32B15UXxymfSMwKGTObY5e.jpg\"))\n",
        ").json()\n",
        "\n",
        "js"
      ],
      "metadata": {
        "colab": {
          "base_uri": "https://localhost:8080/"
        },
        "collapsed": true,
        "id": "eRR5DhOI3xYK",
        "outputId": "72b7b6fa-4c31-4512-8b0e-b306c4303c3f"
      },
      "execution_count": 2,
      "outputs": [
        {
          "output_type": "execute_result",
          "data": {
            "text/plain": [
              "{'frameCount': 11473747,\n",
              " 'error': '',\n",
              " 'result': [{'anilist': 21034,\n",
              "   'filename': '[Leopard-Raws] Gochuumon wa Usagi Desu ka 2nd - 01 RAW (KBS 1280x720 x264 AAC).mp4',\n",
              "   'episode': 1,\n",
              "   'from': 288.58,\n",
              "   'to': 292.67,\n",
              "   'similarity': 0.99,\n",
              "   'video': 'https://api.trace.moe/video/21034/%5BLeopard-Raws%5D%20Gochuumon%20wa%20Usagi%20Desu%20ka%202nd%20-%2001%20RAW%20(KBS%201280x720%20x264%20AAC).mp4?t=290.625&now=1748991600&token=CMyEp8KJos26THNt4NQRIoxgtwM',\n",
              "   'image': 'https://api.trace.moe/image/21034/%5BLeopard-Raws%5D%20Gochuumon%20wa%20Usagi%20Desu%20ka%202nd%20-%2001%20RAW%20(KBS%201280x720%20x264%20AAC).mp4?t=290.625&now=1748991600&token=CMyEp8KJos26THNt4NQRIoxgtwM'},\n",
              "  {'anilist': 21034,\n",
              "   'filename': 'Gochuumon wa Usagi Desuka 2 - 01 (BS11 1280x720 x264 AAC).mp4',\n",
              "   'episode': 1,\n",
              "   'from': 289.08,\n",
              "   'to': 292.75,\n",
              "   'similarity': 0.9735424868893542,\n",
              "   'video': 'https://api.trace.moe/video/21034/Gochuumon%20wa%20Usagi%20Desuka%202%20-%2001%20(BS11%201280x720%20x264%20AAC).mp4?t=290.91499999999996&now=1748991600&token=H4etbxqVww9aNET3TDPoUW0VJ4M',\n",
              "   'image': 'https://api.trace.moe/image/21034/Gochuumon%20wa%20Usagi%20Desuka%202%20-%2001%20(BS11%201280x720%20x264%20AAC).mp4?t=290.91499999999996&now=1748991600&token=H4etbxqVww9aNET3TDPoUW0VJ4M'},\n",
              "  {'anilist': 21034,\n",
              "   'filename': '[Ohys-Raws] Gochuumon wa Usagi Desuka 2 - 01 (AT-X 1280x720 x264 AAC).mp4',\n",
              "   'episode': 1,\n",
              "   'from': 288.75,\n",
              "   'to': 292.75,\n",
              "   'similarity': 0.9735424868893542,\n",
              "   'video': 'https://api.trace.moe/video/21034/%5BOhys-Raws%5D%20Gochuumon%20wa%20Usagi%20Desuka%202%20-%2001%20(AT-X%201280x720%20x264%20AAC).mp4?t=290.75&now=1748991600&token=q0DshkWrD8zLrBbkuBM7p1M4',\n",
              "   'image': 'https://api.trace.moe/image/21034/%5BOhys-Raws%5D%20Gochuumon%20wa%20Usagi%20Desuka%202%20-%2001%20(AT-X%201280x720%20x264%20AAC).mp4?t=290.75&now=1748991600&token=q0DshkWrD8zLrBbkuBM7p1M4'},\n",
              "  {'anilist': 21034,\n",
              "   'filename': 'Gochuumon wa Usagi Desuka 2 - 01 (BD 1280x720 x264 AAC).mp4',\n",
              "   'episode': 1,\n",
              "   'from': 278.5,\n",
              "   'to': 282.67,\n",
              "   'similarity': 0.9735424868893542,\n",
              "   'video': 'https://api.trace.moe/video/21034/Gochuumon%20wa%20Usagi%20Desuka%202%20-%2001%20(BD%201280x720%20x264%20AAC).mp4?t=280.58500000000004&now=1748991600&token=XKyGhrsS60YL9hPL7o2ktpQvLY',\n",
              "   'image': 'https://api.trace.moe/image/21034/Gochuumon%20wa%20Usagi%20Desuka%202%20-%2001%20(BD%201280x720%20x264%20AAC).mp4?t=280.58500000000004&now=1748991600&token=XKyGhrsS60YL9hPL7o2ktpQvLY'},\n",
              "  {'anilist': 10079,\n",
              "   'filename': '[SumiSora][Hoshizora e Kakaru Hashi][BDrip][04][BIG5][720P].mp4',\n",
              "   'episode': 4,\n",
              "   'from': 1295.58,\n",
              "   'to': 1299.08,\n",
              "   'similarity': 0.8265179965813713,\n",
              "   'video': 'https://api.trace.moe/video/10079/%5BSumiSora%5D%5BHoshizora%20e%20Kakaru%20Hashi%5D%5BBDrip%5D%5B04%5D%5BBIG5%5D%5B720P%5D.mp4?t=1297.33&now=1748991600&token=Fmfw92d480OXnjqYGU0Q7JHJvRE',\n",
              "   'image': 'https://api.trace.moe/image/10079/%5BSumiSora%5D%5BHoshizora%20e%20Kakaru%20Hashi%5D%5BBDrip%5D%5B04%5D%5BBIG5%5D%5B720P%5D.mp4?t=1297.33&now=1748991600&token=Fmfw92d480OXnjqYGU0Q7JHJvRE'},\n",
              "  {'anilist': 1530,\n",
              "   'filename': '[ReinForce] Kanon - 04 (BDRip 1920x1080 x264 FLAC).mp4',\n",
              "   'episode': 4,\n",
              "   'from': 1175.08,\n",
              "   'to': 1179.58,\n",
              "   'similarity': 0.8211713758490933,\n",
              "   'video': 'https://api.trace.moe/video/1530/%5BReinForce%5D%20Kanon%20-%2004%20(BDRip%201920x1080%20x264%20FLAC).mp4?t=1177.33&now=1748991600&token=c2Sj35W28DshFmGJ1XMab6cBOY',\n",
              "   'image': 'https://api.trace.moe/image/1530/%5BReinForce%5D%20Kanon%20-%2004%20(BDRip%201920x1080%20x264%20FLAC).mp4?t=1177.33&now=1748991600&token=c2Sj35W28DshFmGJ1XMab6cBOY'},\n",
              "  {'anilist': 1530,\n",
              "   'filename': '[ReinForce] Kanon - 04 (BDRip 1920x1080 x264 FLAC).mp4',\n",
              "   'episode': 4,\n",
              "   'from': 1184.67,\n",
              "   'to': 1190.08,\n",
              "   'similarity': 0.8211713758490933,\n",
              "   'video': 'https://api.trace.moe/video/1530/%5BReinForce%5D%20Kanon%20-%2004%20(BDRip%201920x1080%20x264%20FLAC).mp4?t=1187.375&now=1748991600&token=5AHMquW5bEHvOFwgkpMYRMOFc',\n",
              "   'image': 'https://api.trace.moe/image/1530/%5BReinForce%5D%20Kanon%20-%2004%20(BDRip%201920x1080%20x264%20FLAC).mp4?t=1187.375&now=1748991600&token=5AHMquW5bEHvOFwgkpMYRMOFc'},\n",
              "  {'anilist': 10079,\n",
              "   'filename': '[SumiSora][Hoshizora e Kakaru Hashi][BDrip][04][BIG5][720P].mp4',\n",
              "   'episode': 4,\n",
              "   'from': 1273.33,\n",
              "   'to': 1277,\n",
              "   'similarity': 0.8162100669972705,\n",
              "   'video': 'https://api.trace.moe/video/10079/%5BSumiSora%5D%5BHoshizora%20e%20Kakaru%20Hashi%5D%5BBDrip%5D%5B04%5D%5BBIG5%5D%5B720P%5D.mp4?t=1275.165&now=1748991600&token=8V48TwuUZ7PSikdA0W3VZZtoY',\n",
              "   'image': 'https://api.trace.moe/image/10079/%5BSumiSora%5D%5BHoshizora%20e%20Kakaru%20Hashi%5D%5BBDrip%5D%5B04%5D%5BBIG5%5D%5B720P%5D.mp4?t=1275.165&now=1748991600&token=8V48TwuUZ7PSikdA0W3VZZtoY'},\n",
              "  {'anilist': 157,\n",
              "   'filename': 'Mahou Sensei Negima! - 23 (BD 948x720 x264 AAC).mp4',\n",
              "   'episode': 23,\n",
              "   'from': 134.25,\n",
              "   'to': 143.58,\n",
              "   'similarity': 0.808183930020312,\n",
              "   'video': 'https://api.trace.moe/video/157/Mahou%20Sensei%20Negima!%20-%2023%20(BD%20948x720%20x264%20AAC).mp4?t=138.91500000000002&now=1748991600&token=LI6F6BUGkyiKpfkLDMKbJBDzzSY',\n",
              "   'image': 'https://api.trace.moe/image/157/Mahou%20Sensei%20Negima!%20-%2023%20(BD%20948x720%20x264%20AAC).mp4?t=138.91500000000002&now=1748991600&token=LI6F6BUGkyiKpfkLDMKbJBDzzSY'},\n",
              "  {'anilist': 132052,\n",
              "   'filename': '[Ohys-Raws] Kakkou no Iinazuke - 05 (CS3 1280x720 x264 AAC).mp4',\n",
              "   'episode': 5,\n",
              "   'from': 240.67,\n",
              "   'to': 240.83,\n",
              "   'similarity': 0.8054679228417241,\n",
              "   'video': 'https://api.trace.moe/video/132052/%5BOhys-Raws%5D%20Kakkou%20no%20Iinazuke%20-%2005%20(CS3%201280x720%20x264%20AAC).mp4?t=240.75&now=1748991600&token=EtSrIKGG6Ak9naVoxNW3wdmeTk',\n",
              "   'image': 'https://api.trace.moe/image/132052/%5BOhys-Raws%5D%20Kakkou%20no%20Iinazuke%20-%2005%20(CS3%201280x720%20x264%20AAC).mp4?t=240.75&now=1748991600&token=EtSrIKGG6Ak9naVoxNW3wdmeTk'}]}"
            ]
          },
          "metadata": {},
          "execution_count": 2
        }
      ]
    },
    {
      "cell_type": "code",
      "source": [
        "js = requests.get(\"https://api.trace.moe/search?url={}\"\n",
        "  .format(urllib.parse.quote_plus(\"https://static1.srcdn.com/wordpress/wp-content/uploads/2024/07/one-piece-luffy-putting-on-his-straw-hat.jpg\"))\n",
        ").json()\n",
        "\n",
        "js"
      ],
      "metadata": {
        "colab": {
          "base_uri": "https://localhost:8080/"
        },
        "outputId": "d7a3a5d2-1040-4717-e383-43037ad7cea7",
        "id": "GRpab39W4JiF"
      },
      "execution_count": 3,
      "outputs": [
        {
          "output_type": "execute_result",
          "data": {
            "text/plain": [
              "{'frameCount': 18717975,\n",
              " 'error': '',\n",
              " 'result': [{'anilist': 21,\n",
              "   'filename': '[Anime Land] One Piece SP5 (WEBRip 1080p Hi10P AAC) RAW [6888F12C].mp4',\n",
              "   'episode': 5,\n",
              "   'from': 214,\n",
              "   'to': 216,\n",
              "   'similarity': 0.9001916119784283,\n",
              "   'video': 'https://api.trace.moe/video/21/%5BAnime%20Land%5D%20One%20Piece%20SP5%20(WEBRip%201080p%20Hi10P%20AAC)%20RAW%20%5B6888F12C%5D.mp4?t=215&now=1748991600&token=3NYHyNv6ADflPUuE9Fbw8z0Zs',\n",
              "   'image': 'https://api.trace.moe/image/21/%5BAnime%20Land%5D%20One%20Piece%20SP5%20(WEBRip%201080p%20Hi10P%20AAC)%20RAW%20%5B6888F12C%5D.mp4?t=215&now=1748991600&token=3NYHyNv6ADflPUuE9Fbw8z0Zs'},\n",
              "  {'anilist': 21,\n",
              "   'filename': '[Anime Land] One Piece 1015 (WEBRip 1080p Hi10P AAC) RAW [76FA21A4].mp4',\n",
              "   'episode': 1015,\n",
              "   'from': 1373.17,\n",
              "   'to': 1375.08,\n",
              "   'similarity': 0.9001916119784283,\n",
              "   'video': 'https://api.trace.moe/video/21/%5BAnime%20Land%5D%20One%20Piece%201015%20(WEBRip%201080p%20Hi10P%20AAC)%20RAW%20%5B76FA21A4%5D.mp4?t=1374.125&now=1748991600&token=gAtoaaLJuTogwzDp44ImyULXFW8',\n",
              "   'image': 'https://api.trace.moe/image/21/%5BAnime%20Land%5D%20One%20Piece%201015%20(WEBRip%201080p%20Hi10P%20AAC)%20RAW%20%5B76FA21A4%5D.mp4?t=1374.125&now=1748991600&token=gAtoaaLJuTogwzDp44ImyULXFW8'},\n",
              "  {'anilist': 21,\n",
              "   'filename': '[Anime Land] One Piece 1016 (WEBRip 1080p Hi10P AAC) RAW [6F3252FA].mp4',\n",
              "   'episode': 1016,\n",
              "   'from': 192.25,\n",
              "   'to': 194.17,\n",
              "   'similarity': 0.9001916119784283,\n",
              "   'video': 'https://api.trace.moe/video/21/%5BAnime%20Land%5D%20One%20Piece%201016%20(WEBRip%201080p%20Hi10P%20AAC)%20RAW%20%5B6F3252FA%5D.mp4?t=193.20999999999998&now=1748991600&token=w62XnkK9qwwjJ7JM6IhF7zuuYc',\n",
              "   'image': 'https://api.trace.moe/image/21/%5BAnime%20Land%5D%20One%20Piece%201016%20(WEBRip%201080p%20Hi10P%20AAC)%20RAW%20%5B6F3252FA%5D.mp4?t=193.20999999999998&now=1748991600&token=w62XnkK9qwwjJ7JM6IhF7zuuYc'},\n",
              "  {'anilist': 101555,\n",
              "   'filename': '[Leopard-Raws] Youkai Watch： Shadow Side - 04 RAW (TX 1280x720 x264 AAC).mp4',\n",
              "   'episode': 4,\n",
              "   'from': 632.75,\n",
              "   'to': 633,\n",
              "   'similarity': 0.7906032724892096,\n",
              "   'video': 'https://api.trace.moe/video/101555/%5BLeopard-Raws%5D%20Youkai%20Watch%EF%BC%9A%20Shadow%20Side%20-%2004%20RAW%20(TX%201280x720%20x264%20AAC).mp4?t=632.875&now=1748991600&token=wAVfiK9PeHazuxKa2MqoZonD8k',\n",
              "   'image': 'https://api.trace.moe/image/101555/%5BLeopard-Raws%5D%20Youkai%20Watch%EF%BC%9A%20Shadow%20Side%20-%2004%20RAW%20(TX%201280x720%20x264%20AAC).mp4?t=632.875&now=1748991600&token=wAVfiK9PeHazuxKa2MqoZonD8k'},\n",
              "  {'anilist': 153152,\n",
              "   'filename': '[Moozzi2] Boku no Kokoro no Yabai Yatsu - 04 (BD 1920x1080 HEVC-YUV444P10 FLAC).mkv',\n",
              "   'episode': 4,\n",
              "   'from': 822.92,\n",
              "   'to': 823.42,\n",
              "   'similarity': 0.7899286370840116,\n",
              "   'video': 'https://api.trace.moe/video/153152/%5BMoozzi2%5D%20Boku%20no%20Kokoro%20no%20Yabai%20Yatsu%20-%2004%20(BD%201920x1080%20HEVC-YUV444P10%20FLAC).mkv?t=823.17&now=1748991600&token=L4GKW5VGtpWwqH7U3UpXgydXCw',\n",
              "   'image': 'https://api.trace.moe/image/153152/%5BMoozzi2%5D%20Boku%20no%20Kokoro%20no%20Yabai%20Yatsu%20-%2004%20(BD%201920x1080%20HEVC-YUV444P10%20FLAC).mkv?t=823.17&now=1748991600&token=L4GKW5VGtpWwqH7U3UpXgydXCw'},\n",
              "  {'anilist': 153152,\n",
              "   'filename': '[Ohys-Raws] Boku no Kokoro no Yabai Yatsu - 04 (CS298 1280x720 x264 AAC).mp4',\n",
              "   'episode': 4,\n",
              "   'from': 823.58,\n",
              "   'to': 828.67,\n",
              "   'similarity': 0.7886807847790799,\n",
              "   'video': 'https://api.trace.moe/video/153152/%5BOhys-Raws%5D%20Boku%20no%20Kokoro%20no%20Yabai%20Yatsu%20-%2004%20(CS298%201280x720%20x264%20AAC).mp4?t=826.125&now=1748991600&token=RAlr0eG36fSNj7Plw45cd5E5I',\n",
              "   'image': 'https://api.trace.moe/image/153152/%5BOhys-Raws%5D%20Boku%20no%20Kokoro%20no%20Yabai%20Yatsu%20-%2004%20(CS298%201280x720%20x264%20AAC).mp4?t=826.125&now=1748991600&token=RAlr0eG36fSNj7Plw45cd5E5I'},\n",
              "  {'anilist': 97716,\n",
              "   'filename': 'Getsuyoubi no Tawawa - 06 (BD 1280x720 x264 AAC).mp4',\n",
              "   'episode': 6,\n",
              "   'from': 100.42,\n",
              "   'to': 100.75,\n",
              "   'similarity': 0.7883007399267538,\n",
              "   'video': 'https://api.trace.moe/video/97716/Getsuyoubi%20no%20Tawawa%20-%2006%20(BD%201280x720%20x264%20AAC).mp4?t=100.58500000000001&now=1748991600&token=QEoq6nrwE4GUrCbsuHxwTox5c',\n",
              "   'image': 'https://api.trace.moe/image/97716/Getsuyoubi%20no%20Tawawa%20-%2006%20(BD%201280x720%20x264%20AAC).mp4?t=100.58500000000001&now=1748991600&token=QEoq6nrwE4GUrCbsuHxwTox5c'},\n",
              "  {'anilist': 2494,\n",
              "   'filename': 'Goshuushou-sama Ninomiya-kun - 07 (BD 1280x720 x264 AAC).mp4',\n",
              "   'episode': 7,\n",
              "   'from': 533.33,\n",
              "   'to': 533.33,\n",
              "   'similarity': 0.7870481155193663,\n",
              "   'video': 'https://api.trace.moe/video/2494/Goshuushou-sama%20Ninomiya-kun%20-%2007%20(BD%201280x720%20x264%20AAC).mp4?t=533.33&now=1748991600&token=2V3zAkHwwMAMS1z4LI1qEn7PUM',\n",
              "   'image': 'https://api.trace.moe/image/2494/Goshuushou-sama%20Ninomiya-kun%20-%2007%20(BD%201280x720%20x264%20AAC).mp4?t=533.33&now=1748991600&token=2V3zAkHwwMAMS1z4LI1qEn7PUM'},\n",
              "  {'anilist': 10790,\n",
              "   'filename': '[Leopard-Raws] Kore wa Zombie Desuka - Of the Dead - 08 RAW (MX 1280x720 x264 AAC).mp4',\n",
              "   'episode': 8,\n",
              "   'from': 209.5,\n",
              "   'to': 210.83,\n",
              "   'similarity': 0.7866669337552821,\n",
              "   'video': 'https://api.trace.moe/video/10790/%5BLeopard-Raws%5D%20Kore%20wa%20Zombie%20Desuka%20-%20Of%20the%20Dead%20-%2008%20RAW%20(MX%201280x720%20x264%20AAC).mp4?t=210.16500000000002&now=1748991600&token=Yv5rBBdWMEVPhHsxVT25OXAN4M',\n",
              "   'image': 'https://api.trace.moe/image/10790/%5BLeopard-Raws%5D%20Kore%20wa%20Zombie%20Desuka%20-%20Of%20the%20Dead%20-%2008%20RAW%20(MX%201280x720%20x264%20AAC).mp4?t=210.16500000000002&now=1748991600&token=Yv5rBBdWMEVPhHsxVT25OXAN4M'},\n",
              "  {'anilist': 180812,\n",
              "   'filename': '[SubsPlease] Aparida - 17 (720p) [CBDF6A2B].mkv',\n",
              "   'episode': 17,\n",
              "   'from': 610.08,\n",
              "   'to': 611.42,\n",
              "   'similarity': 0.7844659996346809,\n",
              "   'video': 'https://api.trace.moe/video/180812/%5BSubsPlease%5D%20Aparida%20-%2017%20(720p)%20%5BCBDF6A2B%5D.mkv?t=610.75&now=1748991600&token=6gbY5q8Y1c59FBlZ7rDo6EkVnk',\n",
              "   'image': 'https://api.trace.moe/image/180812/%5BSubsPlease%5D%20Aparida%20-%2017%20(720p)%20%5BCBDF6A2B%5D.mkv?t=610.75&now=1748991600&token=6gbY5q8Y1c59FBlZ7rDo6EkVnk'}]}"
            ]
          },
          "metadata": {},
          "execution_count": 3
        }
      ]
    },
    {
      "cell_type": "code",
      "source": [
        "test_url:str = \"https://static1.srcdn.com/wordpress/wp-content/uploads/2024/07/one-piece-luffy-putting-on-his-straw-hat.jpg\"\n",
        "response = requests.get(\"https://api.trace.moe/search?anilistInfo&url={}\"\n",
        "  .format(urllib.parse.quote_plus(test_url))).json()"
      ],
      "metadata": {
        "id": "OfngxBQw4Nn_"
      },
      "execution_count": 5,
      "outputs": []
    },
    {
      "cell_type": "code",
      "source": [
        "response['result'][0]"
      ],
      "metadata": {
        "colab": {
          "base_uri": "https://localhost:8080/"
        },
        "id": "jsaXPPBp4niW",
        "outputId": "a157d2a5-c9f7-4ef8-8af5-981ec3ed16f6"
      },
      "execution_count": 19,
      "outputs": [
        {
          "output_type": "execute_result",
          "data": {
            "text/plain": [
              "{'anilist': {'id': 21,\n",
              "  'idMal': 21,\n",
              "  'title': {'native': 'ONE PIECE',\n",
              "   'romaji': 'ONE PIECE',\n",
              "   'english': 'ONE PIECE'},\n",
              "  'synonyms': ['ワンピース',\n",
              "   '海贼王',\n",
              "   'וואן פיס',\n",
              "   'ون بيس',\n",
              "   'วันพีซ',\n",
              "   'Vua Hải Tặc',\n",
              "   \"All'arrembaggio!\",\n",
              "   \"Tutti all'arrembaggio!\",\n",
              "   'Ντρέηκ, το Κυνήγι του Θησαυρού'],\n",
              "  'isAdult': False},\n",
              " 'filename': '[Anime Land] One Piece SP5 (WEBRip 1080p Hi10P AAC) RAW [6888F12C].mp4',\n",
              " 'episode': 5,\n",
              " 'from': 214,\n",
              " 'to': 216,\n",
              " 'similarity': 0.9001916119784283,\n",
              " 'video': 'https://api.trace.moe/video/21/%5BAnime%20Land%5D%20One%20Piece%20SP5%20(WEBRip%201080p%20Hi10P%20AAC)%20RAW%20%5B6888F12C%5D.mp4?t=215&now=1748991600&token=3NYHyNv6ADflPUuE9Fbw8z0Zs',\n",
              " 'image': 'https://api.trace.moe/image/21/%5BAnime%20Land%5D%20One%20Piece%20SP5%20(WEBRip%201080p%20Hi10P%20AAC)%20RAW%20%5B6888F12C%5D.mp4?t=215&now=1748991600&token=3NYHyNv6ADflPUuE9Fbw8z0Zs'}"
            ]
          },
          "metadata": {},
          "execution_count": 19
        }
      ]
    },
    {
      "cell_type": "markdown",
      "source": [
        "## Ideas\n",
        "- Allow input of image for detection\n",
        "- Use MAL Id to retrieve data from Jikan"
      ],
      "metadata": {
        "id": "syh5wgSE5h8h"
      }
    },
    {
      "cell_type": "code",
      "source": [],
      "metadata": {
        "id": "wsHPTJJy6o3Q"
      },
      "execution_count": null,
      "outputs": []
    }
  ]
}