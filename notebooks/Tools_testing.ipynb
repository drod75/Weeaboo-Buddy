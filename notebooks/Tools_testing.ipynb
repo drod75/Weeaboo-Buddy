{
 "cells": [
  {
   "cell_type": "markdown",
   "id": "48ec3dc6",
   "metadata": {},
   "source": [
    "# Tool testing"
   ]
  },
  {
   "cell_type": "markdown",
   "id": "fb958459",
   "metadata": {},
   "source": []
  }
 ],
 "metadata": {
  "language_info": {
   "name": "python"
  }
 },
 "nbformat": 4,
 "nbformat_minor": 5
}
